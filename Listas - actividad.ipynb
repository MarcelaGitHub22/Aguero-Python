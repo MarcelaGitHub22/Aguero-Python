{
 "cells": [
  {
   "cell_type": "markdown",
   "metadata": {},
   "source": [
    "## Listas - Actividad"
   ]
  },
  {
   "cell_type": "markdown",
   "metadata": {},
   "source": [
    "1) Escribe una función que tome una lista de números como argumento y devuelva una nueva lista que contenga solo los números pares."
   ]
  },
  {
   "cell_type": "code",
   "execution_count": 7,
   "metadata": {},
   "outputs": [
    {
     "name": "stdout",
     "output_type": "stream",
     "text": [
      "Números pares: [44, 56, 72, 22]\n"
     ]
    }
   ],
   "source": [
    "def ejercicio_1(lista):\n",
    "    numeros_pares = []\n",
    "    for numero in range(len(lista)):\n",
    "        if lista[numero] % 2 == 0:\n",
    "            numeros_pares.append(lista[numero])\n",
    "    return numeros_pares\n",
    "\n",
    "lista= [11, 23, 44, 56, 72, 51, 22, 15]\n",
    "lista_pares = ejercicio_1(lista)\n",
    "print(\"Números pares:\", lista_pares)\n"
   ]
  },
  {
   "cell_type": "code",
   "execution_count": 8,
   "metadata": {},
   "outputs": [
    {
     "name": "stdout",
     "output_type": "stream",
     "text": [
      "\u001b[92m✓ Ejercicio correcto!\n"
     ]
    }
   ],
   "source": [
    "# TEST EJERCICIO 1\n",
    "\n",
    "try:\n",
    "    assert ejercicio_1([1, 2, 3, 4, 5, 6, 7, 8, 9]) == [2, 4, 6, 8]\n",
    "    assert ejercicio_1([11, 23, 44, 56, 72, 51, 22, 15]) == [44, 56, 72, 22]\n",
    "    print('\\033[92m' + '✓ Ejercicio correcto!')\n",
    "except AssertionError as e:\n",
    "    print('\\033[91m' + \"x Ejercicio incorrecto\")"
   ]
  },
  {
   "cell_type": "markdown",
   "metadata": {},
   "source": [
    "2) Escribe una función que tome una lista y elimine los elementos duplicados, devolviendo una nueva lista sin duplicados. El orden de los elementos debe mantenerse."
   ]
  },
  {
   "cell_type": "code",
   "execution_count": 10,
   "metadata": {},
   "outputs": [
    {
     "name": "stdout",
     "output_type": "stream",
     "text": [
      "[1, 2, 3, 4, 5]\n"
     ]
    }
   ],
   "source": [
    "def ejercicio_2(lista):\n",
    "    noduplicados = []\n",
    "    for elemento in lista:\n",
    "        if elemento not in noduplicados:\n",
    "            noduplicados.append(elemento)\n",
    "    return noduplicados\n",
    "\n",
    "lista= [1, 2, 2, 3, 4, 4, 5, 5, 5, 2]\n",
    "noduplicados = ejercicio_2(lista)\n",
    "print (noduplicados)\n"
   ]
  },
  {
   "cell_type": "code",
   "execution_count": 11,
   "metadata": {},
   "outputs": [
    {
     "name": "stdout",
     "output_type": "stream",
     "text": [
      "\u001b[92m✓ Ejercicio correcto!\n"
     ]
    }
   ],
   "source": [
    "# TEST EJERCICIO 2\n",
    "\n",
    "try:\n",
    "    assert ejercicio_2([1, 2, 2, 3, 4, 4, 5, 5, 5, 2]) == [1, 2, 3, 4, 5]\n",
    "    assert ejercicio_2([\"Hola\", \"Mundo\", \"Hola\", \"Ejercicio\", \"Dos\", \"Numero\", \"Dos\", \"Dos\"]) == [\"Hola\", \"Mundo\", \"Ejercicio\", \"Dos\", \"Numero\"]\n",
    "    print('\\033[92m' + '✓ Ejercicio correcto!')\n",
    "except AssertionError as e:\n",
    "    print('\\033[91m' + \"x Ejercicio incorrecto\")"
   ]
  },
  {
   "cell_type": "markdown",
   "metadata": {},
   "source": [
    "3) Escribe una función que tome una lista y un elemento como argumentos, y elimine todas las ocurrencias de ese elemento en la lista. Devuelve la lista modificada."
   ]
  },
  {
   "cell_type": "code",
   "execution_count": 13,
   "metadata": {},
   "outputs": [
    {
     "name": "stdout",
     "output_type": "stream",
     "text": [
      "[1, 3, 4, 5]\n"
     ]
    }
   ],
   "source": [
    "def ejercicio_3(lista, elemento):\n",
    "    for numero in range(len(lista)):\n",
    "        if elemento in lista :\n",
    "            lista.remove(elemento)\n",
    "    return lista\n",
    "\n",
    "lista=ejercicio_3([1, 2, 3, 4, 2, 5, 2], 2)\n",
    "print(lista)"
   ]
  },
  {
   "cell_type": "code",
   "execution_count": 14,
   "metadata": {},
   "outputs": [
    {
     "name": "stdout",
     "output_type": "stream",
     "text": [
      "\u001b[92m✓ Ejercicio correcto!\n"
     ]
    }
   ],
   "source": [
    "# TEST EJERCICIO 3\n",
    "\n",
    "try:\n",
    "    assert ejercicio_3([1, 2, 3, 4, 2, 5, 2], 2) == [1, 3, 4, 5]\n",
    "    assert ejercicio_3([\"Alfa\", \"Beta\", \"Gamma\", \"Epsilon\", \"Alfa\", \"Alfa\"], \"Alfa\") == [\"Beta\", \"Gamma\", \"Epsilon\"]\n",
    "    print('\\033[92m' + '✓ Ejercicio correcto!')\n",
    "except AssertionError as e:\n",
    "    print('\\033[91m' + \"x Ejercicio incorrecto\")"
   ]
  },
  {
   "cell_type": "markdown",
   "metadata": {},
   "source": [
    "4) Escribe una función que tome una lista de números como argumento y devuelva una nueva lista que contenga solo los números que son mayores que 0 (cero), ordenados de menor a mayor."
   ]
  },
  {
   "cell_type": "code",
   "execution_count": 29,
   "metadata": {},
   "outputs": [
    {
     "name": "stdout",
     "output_type": "stream",
     "text": [
      "Mayores a cero: [1, 2, 3, 4, 5, 6, 8]\n"
     ]
    }
   ],
   "source": [
    "def ejercicio_4(lista):\n",
    "    mayores_ceros = []\n",
    "    for numero in range(len(lista)):\n",
    "        if lista[numero] > 0:\n",
    "            mayores_ceros.append(lista[numero])\n",
    "    mayores_ceros=sorted(mayores_ceros)\n",
    "    return mayores_ceros\n",
    "\n",
    "print(\"Mayores a cero:\", ejercicio_4([-3, 5, 1, 0, -1, 8, 2, 4, 3, 6]))"
   ]
  },
  {
   "cell_type": "code",
   "execution_count": 30,
   "metadata": {},
   "outputs": [
    {
     "name": "stdout",
     "output_type": "stream",
     "text": [
      "\u001b[92m✓ Ejercicio correcto!\n"
     ]
    }
   ],
   "source": [
    "# TEST EJERCICIO 4\n",
    "\n",
    "try:\n",
    "    assert ejercicio_4([-3, 5, 1, 0, -1, 8, 2, 4, 3, 6]) == [1, 2, 3, 4, 5, 6, 8]\n",
    "    print('\\033[92m' + '✓ Ejercicio correcto!')\n",
    "except AssertionError as e:\n",
    "    print('\\033[91m' + \"x Ejercicio incorrecto\")"
   ]
  },
  {
   "cell_type": "markdown",
   "metadata": {},
   "source": [
    "5) Crear una función que cuente la cantidad de veces que se repite cada elemento de una lista. Devolver un diccionario con los elementos y sus repeticiones.\n",
    "\n",
    "> Consejo: Usar el método `count` de las listas y listas por comprensión."
   ]
  },
  {
   "cell_type": "code",
   "execution_count": 37,
   "metadata": {},
   "outputs": [
    {
     "name": "stdout",
     "output_type": "stream",
     "text": [
      "Hola: 3\n",
      "Mundo: 1\n",
      "Palabra: 1\n",
      "Curso: 2\n"
     ]
    }
   ],
   "source": [
    "def ejercicio_5(lista):\n",
    "    diccionario={}\n",
    "    for elemento in lista:\n",
    "        if elemento in diccionario:\n",
    "            diccionario[elemento] += 1\n",
    "        else:\n",
    "            diccionario[elemento] = 1\n",
    "    return diccionario\n",
    "\n",
    "diccionario=ejercicio_5([\"Hola\", \"Hola\", \"Mundo\", \"Hola\", \"Palabra\", \"Curso\", \"Curso\"])\n",
    "for dato, cantidad in diccionario.items():\n",
    "    print(f\"{dato}: {cantidad}\")"
   ]
  },
  {
   "cell_type": "code",
   "execution_count": 38,
   "metadata": {},
   "outputs": [
    {
     "name": "stdout",
     "output_type": "stream",
     "text": [
      "\u001b[92m✓ Ejercicio correcto!\n"
     ]
    }
   ],
   "source": [
    "# TEST EJERCICIO 5\n",
    "\n",
    "try:\n",
    "    assert ejercicio_5([\"Hola\", \"Hola\", \"Mundo\", \"Hola\", \"Palabra\", \"Curso\", \"Curso\"]) == {\"Hola\": 3, \"Mundo\": 1, \"Palabra\": 1, \"Curso\": 2}\n",
    "    print('\\033[92m' + '✓ Ejercicio correcto!')\n",
    "except AssertionError as e:\n",
    "    print('\\033[91m' + \"x Ejercicio incorrecto\")\n"
   ]
  },
  {
   "cell_type": "markdown",
   "metadata": {},
   "source": [
    "6) Escribe una función que tome un número entero positivo n como argumento y devuelva una lista de los primeros n números primos.\n",
    "\n",
    "> Nota: Un número primo es un número natural mayor que 1 que es divisible únicamente por 1 y por sí mismo."
   ]
  },
  {
   "cell_type": "code",
   "execution_count": 63,
   "metadata": {},
   "outputs": [
    {
     "name": "stdout",
     "output_type": "stream",
     "text": [
      "[2, 3, 5, 7, 11, 13, 17, 19]\n"
     ]
    }
   ],
   "source": [
    "def es_primo(numero):\n",
    "    if numero <= 1:\n",
    "        return False\n",
    "    for i in range(2, int(numero**0.5) + 1):\n",
    "        if numero % i == 0:\n",
    "            return False\n",
    "    return True\n",
    "\n",
    "def ejercicio_6(n):\n",
    "    primos = []\n",
    "    numero = 2\n",
    "    while numero < n:\n",
    "        if es_primo(numero):\n",
    "            primos.append(numero)\n",
    "        numero += 1\n",
    "    return primos\n",
    "\n",
    "print(ejercicio_6(20))"
   ]
  },
  {
   "cell_type": "code",
   "execution_count": 64,
   "metadata": {},
   "outputs": [
    {
     "name": "stdout",
     "output_type": "stream",
     "text": [
      "\u001b[92m✓ Ejercicio correcto!\n"
     ]
    }
   ],
   "source": [
    "# TEST EJERCICIO 6\n",
    "\n",
    "try:\n",
    "    assert ejercicio_6(20) == [2, 3, 5, 7, 11, 13, 17, 19]\n",
    "    assert ejercicio_6(10) == [2, 3, 5, 7]\n",
    "    print('\\033[92m' + '✓ Ejercicio correcto!')\n",
    "except AssertionError as e:\n",
    "    print('\\033[91m' + \"x Ejercicio incorrecto\")"
   ]
  },
  {
   "cell_type": "markdown",
   "metadata": {},
   "source": [
    "7) Escribe una función que tome una lista de números como argumento y devuelva `True` si la lista está ordenada en orden descendente y `False` en caso contrario."
   ]
  },
  {
   "cell_type": "code",
   "execution_count": 58,
   "metadata": {},
   "outputs": [
    {
     "name": "stdout",
     "output_type": "stream",
     "text": [
      "[11, 9, 6, 3, 1]\n",
      "True\n"
     ]
    }
   ],
   "source": [
    "def ejercicio_7(numeros):\n",
    "  lista_ordenada=sorted(numeros)\n",
    "  lista_ordenada.sort(reverse=True)\n",
    "  print(lista_ordenada)\n",
    "  if lista_ordenada==numeros:\n",
    "      return True\n",
    "  else:\n",
    "      return False\n",
    "print (ejercicio_7([11, 9, 6, 3, 1]))\n"
   ]
  },
  {
   "cell_type": "code",
   "execution_count": 59,
   "metadata": {},
   "outputs": [
    {
     "name": "stdout",
     "output_type": "stream",
     "text": [
      "[25, 14, 11, 8, 7, 4, 3, 1, 0]\n",
      "[9, 8, 7, 6, 5, 4, 3, 2, 1]\n",
      "[11, 9, 6, 3, 1]\n",
      "\u001b[92m✓ Ejercicio correcto!\n"
     ]
    }
   ],
   "source": [
    "# TEST EJERCICIO 7\n",
    "\n",
    "try:\n",
    "    assert ejercicio_7([4, 7, 11, 3, 1, 0, 8, 14, 25]) == False\n",
    "    assert ejercicio_7([1, 2, 3, 4, 5, 6, 7, 8, 9]) == False\n",
    "    assert ejercicio_7([11, 9, 6, 3, 1]) == True\n",
    "    print('\\033[92m' + '✓ Ejercicio correcto!')\n",
    "except AssertionError as e:\n",
    "    print('\\033[91m' + \"x Ejercicio incorrecto\")"
   ]
  }
 ],
 "metadata": {
  "kernelspec": {
   "display_name": "Python 3",
   "language": "python",
   "name": "python3"
  },
  "language_info": {
   "codemirror_mode": {
    "name": "ipython",
    "version": 3
   },
   "file_extension": ".py",
   "mimetype": "text/x-python",
   "name": "python",
   "nbconvert_exporter": "python",
   "pygments_lexer": "ipython3",
   "version": "3.12.2"
  }
 },
 "nbformat": 4,
 "nbformat_minor": 2
}
